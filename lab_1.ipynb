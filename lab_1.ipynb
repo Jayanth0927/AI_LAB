{
  "nbformat": 4,
  "nbformat_minor": 0,
  "metadata": {
    "colab": {
      "provenance": []
    },
    "kernelspec": {
      "name": "python3",
      "display_name": "Python 3"
    },
    "language_info": {
      "name": "python"
    }
  },
  "cells": [
    {
      "cell_type": "code",
      "source": [
        "import random\n",
        "\n",
        "board = [[' ' for _ in range(3)] for _ in range(3)]\n",
        "\n",
        "def displayBoard():\n",
        "    for i in range(3):\n",
        "        for j in range(3):\n",
        "            print(board[i][j], end=\" \")\n",
        "            if j < 2:\n",
        "                print(\"|\", end=\" \")\n",
        "        print()\n",
        "        if i < 2:\n",
        "            print(\"---------\")\n",
        "\n",
        "def userMove():\n",
        "    x = int(input(\"Enter position (1-9): \"))\n",
        "    row = (x - 1) // 3\n",
        "    col = (x - 1) % 3\n",
        "    if 1 <= x <= 9 and board[row][col] not in ['x', 'o']:\n",
        "        board[row][col] = 'x'\n",
        "    else:\n",
        "        print(\"Invalid input\")\n",
        "        userMove()\n",
        "\n",
        "def checkWin(ch):\n",
        "    for i in range(3):\n",
        "        if all(board[i][j] == ch for j in range(3)):\n",
        "            return True\n",
        "        if all(board[j][i] == ch for j in range(3)):\n",
        "            return True\n",
        "    if all(board[i][i] == ch for i in range(3)):\n",
        "        return True\n",
        "    if all(board[i][2 - i] == ch for i in range(3)):\n",
        "        return True\n",
        "    return False\n",
        "\n",
        "def computerMove():\n",
        "    while True:\n",
        "        x = random.randint(1, 9)\n",
        "        row = (x - 1) // 3\n",
        "        col = (x - 1) % 3\n",
        "        if board[row][col] not in ['x', 'o']:\n",
        "            board[row][col] = 'o'\n",
        "            break\n",
        "\n",
        "def isFull():\n",
        "    return all(board[i][j] in ['x', 'o'] for i in range(3) for j in range(3))\n",
        "\n",
        "def playGame():\n",
        "    while True:\n",
        "        displayBoard()\n",
        "        userMove()\n",
        "        if checkWin('x'):\n",
        "            displayBoard()\n",
        "            print(\"You win!\")\n",
        "            break\n",
        "        if isFull():\n",
        "            displayBoard()\n",
        "            print(\"It's a draw!\")\n",
        "            break\n",
        "        computerMove()\n",
        "        if checkWin('o'):\n",
        "            displayBoard()\n",
        "            print(\"Computer wins!\")\n",
        "            break\n",
        "        if isFull():\n",
        "            displayBoard()\n",
        "            print(\"It's a draw!\")\n",
        "            break\n",
        "\n",
        "playGame()\n"
      ],
      "metadata": {
        "colab": {
          "base_uri": "https://localhost:8080/"
        },
        "id": "qVguMoOy5Q2u",
        "outputId": "9913e482-557e-4d2f-c385-d7ea7a5740ab"
      },
      "execution_count": 1,
      "outputs": [
        {
          "output_type": "stream",
          "name": "stdout",
          "text": [
            "  |   |   \n",
            "---------\n",
            "  |   |   \n",
            "---------\n",
            "  |   |   \n",
            "Enter position (1-9): 5\n",
            "  |   |   \n",
            "---------\n",
            "  | x |   \n",
            "---------\n",
            "o |   |   \n",
            "Enter position (1-9): 1\n",
            "x |   |   \n",
            "---------\n",
            "  | x | o \n",
            "---------\n",
            "o |   |   \n",
            "Enter position (1-9): 9\n",
            "x |   |   \n",
            "---------\n",
            "  | x | o \n",
            "---------\n",
            "o |   | x \n",
            "You win!\n"
          ]
        }
      ]
    },
    {
      "cell_type": "code",
      "execution_count": 3,
      "metadata": {
        "colab": {
          "base_uri": "https://localhost:8080/"
        },
        "id": "ObK2oYey5P1R",
        "outputId": "25b78fd3-b8af-446a-de7d-5cc17f89c4df"
      },
      "outputs": [
        {
          "output_type": "stream",
          "name": "stdout",
          "text": [
            "Enter status of rooms 0-clean, 1-dirty:\n",
            "Room 0: 1\n",
            "Room 1: 1\n",
            "Where is the cleaner? (0 or 1):\n",
            "1\n",
            "Current room status: [1, 1]\n",
            "Cleaner cleaned Room 1\n",
            "Current room status: [1, 0]\n",
            "Cleaner cleaned Room 0\n",
            "Current room status: [0, 0]\n",
            " rooms are clean\n"
          ]
        }
      ],
      "source": [
        "arr = []\n",
        "\n",
        "print(\"Enter status of rooms 0-clean, 1-dirty:\")\n",
        "for i in range(2):\n",
        "    choice = int(input(f\"Room {i}: \"))\n",
        "    arr.append(choice)\n",
        "\n",
        "print(\"Where is the cleaner? (0 or 1):\")\n",
        "pos = int(input())\n",
        "\n",
        "def printStatus():\n",
        "    print(\"Current room status:\", arr)\n",
        "\n",
        "def checkDirty(i):\n",
        "    return arr[i] == 1\n",
        "\n",
        "def clearRoom(i):\n",
        "    arr[i] = 0\n",
        "    print(f\"Cleaner cleaned Room {i}\")\n",
        "    printStatus()\n",
        "\n",
        "def checkClean():\n",
        "    for i in range(2):\n",
        "        if arr[i] != 0:\n",
        "            return False\n",
        "    return True\n",
        "\n",
        "\n",
        "printStatus()\n",
        "for i in range(pos, 2):\n",
        "    if checkDirty(i):\n",
        "        clearRoom(i)\n",
        "\n",
        "for i in range(pos-1, -1, -1):\n",
        "    if checkDirty(i):\n",
        "        clearRoom(i)\n",
        "\n",
        "if checkClean():\n",
        "    print(\" rooms are clean\")\n",
        "else:\n",
        "    print(\"Some rooms are still dirty\")\n"
      ]
    }
  ]
}